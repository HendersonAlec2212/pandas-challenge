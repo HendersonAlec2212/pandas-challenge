{
 "cells": [
  {
   "cell_type": "code",
   "execution_count": null,
   "id": "c4dd58c0",
   "metadata": {},
   "outputs": [],
   "source": [
    "# COMPARE TO THIS --- 9 _df's all day (see below)\n",
    "\n",
    "# https://smu.bootcampcontent.com/SMU-Coding-Bootcamp/smu-dal-data-pt-09-2021-u-c/-/blob/master/02-Homework/04-Pandas/Instructions/HeroesOfPymoli/HeroesOfPymoli_starter.ipynb"
   ]
  },
  {
   "cell_type": "code",
   "execution_count": null,
   "id": "8c65b278",
   "metadata": {},
   "outputs": [],
   "source": [
    "#import dependencies\n",
    "import pandas as pd\n",
    "import os\n",
    "\n",
    "# This link is for formatting tips for professional looking work\n",
    "\n",
    "# https://gtribello.github.io/mathNET/assets/notebook-writing.html\n",
    "\n",
    "# Consider the concept of building a final summary _df for the lazy - will include combining _df's -> save for future?\n",
    "# If you clean all the formatting now you dont have to do it later.\n",
    "\n",
    "# use .head() <-- DONT FORGET"
   ]
  },
  {
   "cell_type": "code",
   "execution_count": null,
   "id": "c5ac3a75",
   "metadata": {},
   "outputs": [],
   "source": [
    "# MARKDOWN - player count\n",
    "# Total number of players"
   ]
  },
  {
   "cell_type": "code",
   "execution_count": null,
   "id": "4c6c7c8c",
   "metadata": {},
   "outputs": [],
   "source": [
    "# MARKDOWN - Purchasing Analysis (Total)\n",
    "# Number of Unique Items\n",
    "# Average Purchase Price\n",
    "# Total Number of Purchases\n",
    "# Total Revenue\n"
   ]
  },
  {
   "cell_type": "code",
   "execution_count": null,
   "id": "1810e169",
   "metadata": {},
   "outputs": [],
   "source": [
    "# MARKDOWN - Gender Demographics\n",
    "# % = round(variable/whole)*100\n",
    "# Percentage and Count of Male Players\n",
    "# Percentage and Count of Female Players\n",
    "# Percentage and Count of Other \\ Non-Disclosed\n"
   ]
  },
  {
   "cell_type": "code",
   "execution_count": null,
   "id": "319c545a",
   "metadata": {},
   "outputs": [],
   "source": [
    "# MARKDOWN - Purchasing Analysis (Gender)\n",
    "\n",
    "# The below each broken by gender\n",
    "\n",
    "# Purchase Count\n",
    "# Average Purchase Price\n",
    "# Total Purchase Value\n",
    "# Average Purchase Total per Person by Gender\n",
    "\n",
    "# Find out which gender spends more? indication of behavior \\ lack of patience \\ desire for reward\\gratification?\n"
   ]
  },
  {
   "cell_type": "code",
   "execution_count": null,
   "id": "38813db2",
   "metadata": {},
   "outputs": [],
   "source": [
    "# MARKDOWN - Age Demographics\n",
    "# https://pandas.pydata.org/docs/reference/api/pandas.cut.html\n",
    "#% = round(variable/whole)*100\n",
    "# The below each broken into bins of 4 years (i.e. <10, 10-14, 15-19, etc.)\n",
    "\n",
    "# Purchase Count\n",
    "# Average Purchase Price\n",
    "# Total Purchase Value\n",
    "# Average Purchase Total per Person by Age Group\n"
   ]
  },
  {
   "cell_type": "code",
   "execution_count": 6,
   "id": "172953be",
   "metadata": {},
   "outputs": [],
   "source": [
    "# MARKDOWN - Purchasing Analysis (age)\n",
    "# the availability to spend increases as time & money increase until after 25, where the time drops.\n",
    "# 20-24 is the sweet spot of expendable income due to lack of time to farm but interest to play?\n",
    "#this concept is not foreign - look into other game data to explore explanations\n",
    "\n",
    "# The below each broken into bins of 4 years (i.e. <10, 10-14, 15-19, etc.)\n",
    "\n",
    "# Purchase Count\n",
    "# Average Purchase Price\n",
    "# Total Purchase Value\n",
    "# Average Purchase Total per Person by Age\n"
   ]
  },
  {
   "cell_type": "code",
   "execution_count": null,
   "id": "2cb86432",
   "metadata": {},
   "outputs": [],
   "source": [
    "# MARKDOWN - Top Spenders\n",
    "\n",
    "# Identify the the top 5 spenders in the game by total purchase value, then list (in a table):\n",
    "\n",
    "# SN\n",
    "# Purchase Count\n",
    "# Average Purchase Price\n",
    "# Total Purchase Value\n"
   ]
  },
  {
   "cell_type": "code",
   "execution_count": null,
   "id": "a8e46c65",
   "metadata": {},
   "outputs": [],
   "source": [
    "# MARKDOWN - Most Popular Items\n",
    "# This _df appears to be multi-indexed\n",
    "\n",
    "# Identify the 5 most popular items by purchase count, then list (in a table):\n",
    "# \n",
    "# Item ID\n",
    "# Item Name\n",
    "# Purchase Count\n",
    "# Item Price\n",
    "# Total Purchase Value\n"
   ]
  },
  {
   "cell_type": "code",
   "execution_count": null,
   "id": "e7331e84",
   "metadata": {},
   "outputs": [],
   "source": [
    "# MARKDOWN - Most Profitable Items\n",
    "# not multi index, pivot is a keyword? renameing the index is key\n",
    "# pd.cut & groupby\n",
    "\n",
    "# Identify the 5 most profitable items by total purchase value, then list (in a table):\n",
    "# \n",
    "# Item ID\n",
    "# Item Name\n",
    "# Purchase Count\n",
    "# Item Price\n",
    "# Total Purchase Value\n"
   ]
  }
 ],
 "metadata": {
  "kernelspec": {
   "display_name": "Python 3",
   "language": "python",
   "name": "python3"
  },
  "language_info": {
   "codemirror_mode": {
    "name": "ipython",
    "version": 3
   },
   "file_extension": ".py",
   "mimetype": "text/x-python",
   "name": "python",
   "nbconvert_exporter": "python",
   "pygments_lexer": "ipython3",
   "version": "3.8.8"
  }
 },
 "nbformat": 4,
 "nbformat_minor": 5
}
